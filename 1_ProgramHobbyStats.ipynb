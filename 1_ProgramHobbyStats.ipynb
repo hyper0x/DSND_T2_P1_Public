{
 "cells": [
  {
   "cell_type": "markdown",
   "metadata": {},
   "source": [
    "Many people agree that for people who work in programming, their interest in programming is important. Programming hobby may be relevant to some other features. But is that really the case?\n",
    "\n",
    "Before validating this view with data, let's familiarize ourselves with datasets and feature ProgramHobby."
   ]
  },
  {
   "cell_type": "code",
   "execution_count": 1,
   "metadata": {},
   "outputs": [
    {
     "data": {
      "text/html": [
       "<div>\n",
       "<style scoped>\n",
       "    .dataframe tbody tr th:only-of-type {\n",
       "        vertical-align: middle;\n",
       "    }\n",
       "\n",
       "    .dataframe tbody tr th {\n",
       "        vertical-align: top;\n",
       "    }\n",
       "\n",
       "    .dataframe thead th {\n",
       "        text-align: right;\n",
       "    }\n",
       "</style>\n",
       "<table border=\"1\" class=\"dataframe\">\n",
       "  <thead>\n",
       "    <tr style=\"text-align: right;\">\n",
       "      <th></th>\n",
       "      <th>Respondent</th>\n",
       "      <th>Professional</th>\n",
       "      <th>ProgramHobby</th>\n",
       "      <th>Country</th>\n",
       "      <th>University</th>\n",
       "      <th>EmploymentStatus</th>\n",
       "      <th>FormalEducation</th>\n",
       "      <th>MajorUndergrad</th>\n",
       "      <th>HomeRemote</th>\n",
       "      <th>CompanySize</th>\n",
       "      <th>...</th>\n",
       "      <th>StackOverflowMakeMoney</th>\n",
       "      <th>Gender</th>\n",
       "      <th>HighestEducationParents</th>\n",
       "      <th>Race</th>\n",
       "      <th>SurveyLong</th>\n",
       "      <th>QuestionsInteresting</th>\n",
       "      <th>QuestionsConfusing</th>\n",
       "      <th>InterestedAnswers</th>\n",
       "      <th>Salary</th>\n",
       "      <th>ExpectedSalary</th>\n",
       "    </tr>\n",
       "  </thead>\n",
       "  <tbody>\n",
       "    <tr>\n",
       "      <th>0</th>\n",
       "      <td>1</td>\n",
       "      <td>Student</td>\n",
       "      <td>Yes, both</td>\n",
       "      <td>United States</td>\n",
       "      <td>No</td>\n",
       "      <td>Not employed, and not looking for work</td>\n",
       "      <td>Secondary school</td>\n",
       "      <td>NaN</td>\n",
       "      <td>NaN</td>\n",
       "      <td>NaN</td>\n",
       "      <td>...</td>\n",
       "      <td>Strongly disagree</td>\n",
       "      <td>Male</td>\n",
       "      <td>High school</td>\n",
       "      <td>White or of European descent</td>\n",
       "      <td>Strongly disagree</td>\n",
       "      <td>Strongly agree</td>\n",
       "      <td>Disagree</td>\n",
       "      <td>Strongly agree</td>\n",
       "      <td>NaN</td>\n",
       "      <td>NaN</td>\n",
       "    </tr>\n",
       "    <tr>\n",
       "      <th>1</th>\n",
       "      <td>2</td>\n",
       "      <td>Student</td>\n",
       "      <td>Yes, both</td>\n",
       "      <td>United Kingdom</td>\n",
       "      <td>Yes, full-time</td>\n",
       "      <td>Employed part-time</td>\n",
       "      <td>Some college/university study without earning ...</td>\n",
       "      <td>Computer science or software engineering</td>\n",
       "      <td>More than half, but not all, the time</td>\n",
       "      <td>20 to 99 employees</td>\n",
       "      <td>...</td>\n",
       "      <td>Strongly disagree</td>\n",
       "      <td>Male</td>\n",
       "      <td>A master's degree</td>\n",
       "      <td>White or of European descent</td>\n",
       "      <td>Somewhat agree</td>\n",
       "      <td>Somewhat agree</td>\n",
       "      <td>Disagree</td>\n",
       "      <td>Strongly agree</td>\n",
       "      <td>NaN</td>\n",
       "      <td>37500.0</td>\n",
       "    </tr>\n",
       "    <tr>\n",
       "      <th>2</th>\n",
       "      <td>3</td>\n",
       "      <td>Professional developer</td>\n",
       "      <td>Yes, both</td>\n",
       "      <td>United Kingdom</td>\n",
       "      <td>No</td>\n",
       "      <td>Employed full-time</td>\n",
       "      <td>Bachelor's degree</td>\n",
       "      <td>Computer science or software engineering</td>\n",
       "      <td>Less than half the time, but at least one day ...</td>\n",
       "      <td>10,000 or more employees</td>\n",
       "      <td>...</td>\n",
       "      <td>Disagree</td>\n",
       "      <td>Male</td>\n",
       "      <td>A professional degree</td>\n",
       "      <td>White or of European descent</td>\n",
       "      <td>Somewhat agree</td>\n",
       "      <td>Agree</td>\n",
       "      <td>Disagree</td>\n",
       "      <td>Agree</td>\n",
       "      <td>113750.0</td>\n",
       "      <td>NaN</td>\n",
       "    </tr>\n",
       "    <tr>\n",
       "      <th>3</th>\n",
       "      <td>4</td>\n",
       "      <td>Professional non-developer who sometimes write...</td>\n",
       "      <td>Yes, both</td>\n",
       "      <td>United States</td>\n",
       "      <td>No</td>\n",
       "      <td>Employed full-time</td>\n",
       "      <td>Doctoral degree</td>\n",
       "      <td>A non-computer-focused engineering discipline</td>\n",
       "      <td>Less than half the time, but at least one day ...</td>\n",
       "      <td>10,000 or more employees</td>\n",
       "      <td>...</td>\n",
       "      <td>Disagree</td>\n",
       "      <td>Male</td>\n",
       "      <td>A doctoral degree</td>\n",
       "      <td>White or of European descent</td>\n",
       "      <td>Agree</td>\n",
       "      <td>Agree</td>\n",
       "      <td>Somewhat agree</td>\n",
       "      <td>Strongly agree</td>\n",
       "      <td>NaN</td>\n",
       "      <td>NaN</td>\n",
       "    </tr>\n",
       "    <tr>\n",
       "      <th>4</th>\n",
       "      <td>5</td>\n",
       "      <td>Professional developer</td>\n",
       "      <td>Yes, I program as a hobby</td>\n",
       "      <td>Switzerland</td>\n",
       "      <td>No</td>\n",
       "      <td>Employed full-time</td>\n",
       "      <td>Master's degree</td>\n",
       "      <td>Computer science or software engineering</td>\n",
       "      <td>Never</td>\n",
       "      <td>10 to 19 employees</td>\n",
       "      <td>...</td>\n",
       "      <td>NaN</td>\n",
       "      <td>NaN</td>\n",
       "      <td>NaN</td>\n",
       "      <td>NaN</td>\n",
       "      <td>NaN</td>\n",
       "      <td>NaN</td>\n",
       "      <td>NaN</td>\n",
       "      <td>NaN</td>\n",
       "      <td>NaN</td>\n",
       "      <td>NaN</td>\n",
       "    </tr>\n",
       "  </tbody>\n",
       "</table>\n",
       "<p>5 rows × 154 columns</p>\n",
       "</div>"
      ],
      "text/plain": [
       "   Respondent                                       Professional  \\\n",
       "0           1                                            Student   \n",
       "1           2                                            Student   \n",
       "2           3                             Professional developer   \n",
       "3           4  Professional non-developer who sometimes write...   \n",
       "4           5                             Professional developer   \n",
       "\n",
       "                ProgramHobby         Country      University  \\\n",
       "0                  Yes, both   United States              No   \n",
       "1                  Yes, both  United Kingdom  Yes, full-time   \n",
       "2                  Yes, both  United Kingdom              No   \n",
       "3                  Yes, both   United States              No   \n",
       "4  Yes, I program as a hobby     Switzerland              No   \n",
       "\n",
       "                         EmploymentStatus  \\\n",
       "0  Not employed, and not looking for work   \n",
       "1                      Employed part-time   \n",
       "2                      Employed full-time   \n",
       "3                      Employed full-time   \n",
       "4                      Employed full-time   \n",
       "\n",
       "                                     FormalEducation  \\\n",
       "0                                   Secondary school   \n",
       "1  Some college/university study without earning ...   \n",
       "2                                  Bachelor's degree   \n",
       "3                                    Doctoral degree   \n",
       "4                                    Master's degree   \n",
       "\n",
       "                                  MajorUndergrad  \\\n",
       "0                                            NaN   \n",
       "1       Computer science or software engineering   \n",
       "2       Computer science or software engineering   \n",
       "3  A non-computer-focused engineering discipline   \n",
       "4       Computer science or software engineering   \n",
       "\n",
       "                                          HomeRemote  \\\n",
       "0                                                NaN   \n",
       "1              More than half, but not all, the time   \n",
       "2  Less than half the time, but at least one day ...   \n",
       "3  Less than half the time, but at least one day ...   \n",
       "4                                              Never   \n",
       "\n",
       "                CompanySize       ...       StackOverflowMakeMoney Gender  \\\n",
       "0                       NaN       ...            Strongly disagree   Male   \n",
       "1        20 to 99 employees       ...            Strongly disagree   Male   \n",
       "2  10,000 or more employees       ...                     Disagree   Male   \n",
       "3  10,000 or more employees       ...                     Disagree   Male   \n",
       "4        10 to 19 employees       ...                          NaN    NaN   \n",
       "\n",
       "  HighestEducationParents                          Race         SurveyLong  \\\n",
       "0             High school  White or of European descent  Strongly disagree   \n",
       "1       A master's degree  White or of European descent     Somewhat agree   \n",
       "2   A professional degree  White or of European descent     Somewhat agree   \n",
       "3       A doctoral degree  White or of European descent              Agree   \n",
       "4                     NaN                           NaN                NaN   \n",
       "\n",
       "  QuestionsInteresting QuestionsConfusing InterestedAnswers    Salary  \\\n",
       "0       Strongly agree           Disagree    Strongly agree       NaN   \n",
       "1       Somewhat agree           Disagree    Strongly agree       NaN   \n",
       "2                Agree           Disagree             Agree  113750.0   \n",
       "3                Agree     Somewhat agree    Strongly agree       NaN   \n",
       "4                  NaN                NaN               NaN       NaN   \n",
       "\n",
       "   ExpectedSalary  \n",
       "0             NaN  \n",
       "1         37500.0  \n",
       "2             NaN  \n",
       "3             NaN  \n",
       "4             NaN  \n",
       "\n",
       "[5 rows x 154 columns]"
      ]
     },
     "execution_count": 1,
     "metadata": {},
     "output_type": "execute_result"
    }
   ],
   "source": [
    "import numpy as np\n",
    "import pandas as pd\n",
    "import matplotlib.pyplot as plt\n",
    "import ProgramHobbyStats as phs\n",
    "%matplotlib inline\n",
    "\n",
    "df = pd.read_csv('./survey_results_public.csv')\n",
    "df.head()"
   ]
  },
  {
   "cell_type": "code",
   "execution_count": 2,
   "metadata": {
    "scrolled": true
   },
   "outputs": [
    {
     "name": "stdout",
     "output_type": "stream",
     "text": [
      "The total number of rows in data set is 51392.\n",
      "The number of rows with invalid ProgramHobby is 0.\n"
     ]
    }
   ],
   "source": [
    "print(\"The total number of rows in data set is {}.\".format(df.shape[0]))\n",
    "\n",
    "# First, we need to look at the feature ProgramHobby to see if there is some missing values.\n",
    "program_hobby_df = df[df['ProgramHobby'].isnull()==False]\n",
    "print(\"The number of rows with invalid ProgramHobby is {}.\"\n",
    "      .format(sum(df['ProgramHobby'].isnull())))"
   ]
  },
  {
   "cell_type": "markdown",
   "metadata": {
    "collapsed": true
   },
   "source": [
    "Great, there are no missing values for this feature."
   ]
  },
  {
   "cell_type": "code",
   "execution_count": 3,
   "metadata": {},
   "outputs": [
    {
     "data": {
      "text/plain": [
       "Yes, I program as a hobby                    24801\n",
       "Yes, both                                    13756\n",
       "No                                            9787\n",
       "Yes, I contribute to open source projects     3048\n",
       "Name: ProgramHobby, dtype: int64"
      ]
     },
     "execution_count": 3,
     "metadata": {},
     "output_type": "execute_result"
    }
   ],
   "source": [
    "program_hobby_df = df[df['ProgramHobby'].isnull()==False]\n",
    "program_hobby_df['ProgramHobby'].value_counts()"
   ]
  },
  {
   "cell_type": "code",
   "execution_count": 4,
   "metadata": {},
   "outputs": [
    {
     "data": {
      "text/plain": [
       "Yes, I program as a hobby                    0.482585\n",
       "Yes, both                                    0.267668\n",
       "No                                           0.190438\n",
       "Yes, I contribute to open source projects    0.059309\n",
       "Name: ProgramHobby, dtype: float64"
      ]
     },
     "execution_count": 4,
     "metadata": {},
     "output_type": "execute_result"
    }
   ],
   "source": [
    "# We also need to know what the ratios of each value of this feature is present.\n",
    "program_hobby_df['ProgramHobby'].value_counts()/program_hobby_df.shape[0]"
   ]
  },
  {
   "cell_type": "code",
   "execution_count": 5,
   "metadata": {
    "scrolled": true
   },
   "outputs": [
    {
     "data": {
      "text/plain": [
       "Professional developer                                  36131\n",
       "Student                                                  8224\n",
       "Professional non-developer who sometimes writes code     5140\n",
       "Used to be a professional developer                       983\n",
       "None of these                                             914\n",
       "Name: Professional, dtype: int64"
      ]
     },
     "execution_count": 5,
     "metadata": {},
     "output_type": "execute_result"
    }
   ],
   "source": [
    "# I want to see if most of the people on stackoverflow are professional developers.\n",
    "program_hobby_df['Professional'].value_counts()"
   ]
  },
  {
   "cell_type": "markdown",
   "metadata": {
    "collapsed": true
   },
   "source": [
    "It seems that most of the users on the StackOverflow website are professional developers. This is true for at least the users involved in the survey."
   ]
  },
  {
   "cell_type": "code",
   "execution_count": 6,
   "metadata": {},
   "outputs": [
    {
     "data": {
      "text/plain": [
       "Yes, I program as a hobby                    16335\n",
       "Yes, both                                    10021\n",
       "No                                            7532\n",
       "Yes, I contribute to open source projects     2243\n",
       "Name: ProgramHobby, dtype: int64"
      ]
     },
     "execution_count": 6,
     "metadata": {},
     "output_type": "execute_result"
    }
   ],
   "source": [
    "dev_df = program_hobby_df[program_hobby_df['Professional']=='Professional developer']\n",
    "dev_df['ProgramHobby'].value_counts()"
   ]
  },
  {
   "cell_type": "code",
   "execution_count": 7,
   "metadata": {},
   "outputs": [
    {
     "data": {
      "text/plain": [
       "Yes, I program as a hobby                    0.452105\n",
       "Yes, both                                    0.277352\n",
       "No                                           0.208464\n",
       "Yes, I contribute to open source projects    0.062080\n",
       "Name: ProgramHobby, dtype: float64"
      ]
     },
     "execution_count": 7,
     "metadata": {},
     "output_type": "execute_result"
    }
   ],
   "source": [
    "# For professional developers, how many of them make programming a hobby?\n",
    "dev_df['ProgramHobby'].value_counts()/dev_df.shape[0]"
   ]
  },
  {
   "cell_type": "markdown",
   "metadata": {},
   "source": [
    "Among professional developers, most people are interested in programming. It's in line with my instincts. Still, about `20%` people don't think of programming as a hobby. At the same time, there are not too many developers willing to contribute to open source projects, only nearly `34% `."
   ]
  },
  {
   "cell_type": "code",
   "execution_count": 8,
   "metadata": {
    "scrolled": true
   },
   "outputs": [
    {
     "data": {
      "text/plain": [
       "(51392, 4)"
      ]
     },
     "execution_count": 8,
     "metadata": {},
     "output_type": "execute_result"
    }
   ],
   "source": [
    "# I want to get a deeper understanding of the relationship between Professional and ProgramHobby.\n",
    "pro_hobby_df = phs.gen_pro_hobby_df(program_hobby_df)\n",
    "pro_hobby_df.shape"
   ]
  },
  {
   "cell_type": "code",
   "execution_count": 9,
   "metadata": {
    "scrolled": true
   },
   "outputs": [
    {
     "data": {
      "text/plain": [
       "0    0.249747\n",
       "1    0.750253\n",
       "Name: hobby, dtype: float64"
      ]
     },
     "execution_count": 9,
     "metadata": {},
     "output_type": "execute_result"
    }
   ],
   "source": [
    "# View the ratios of the various values in column hobby.\n",
    "pro_hobby_df['hobby'].value_counts().sort_index()/pro_hobby_df.shape[0]"
   ]
  },
  {
   "cell_type": "markdown",
   "metadata": {},
   "source": [
    "The proportion of the values in the `hobby` column here are consistent with the proportions in the data frame `program_hobby_df`. The people of programming enthusiasts make up about `75%`."
   ]
  },
  {
   "cell_type": "code",
   "execution_count": 10,
   "metadata": {
    "scrolled": true
   },
   "outputs": [
    {
     "data": {
      "text/plain": [
       "0    0.673023\n",
       "1    0.326977\n",
       "Name: contrib, dtype: float64"
      ]
     },
     "execution_count": 10,
     "metadata": {},
     "output_type": "execute_result"
    }
   ],
   "source": [
    "# View the ratios of the various values in column contrib.\n",
    "pro_hobby_df['contrib'].value_counts().sort_index()/pro_hobby_df.shape[0]"
   ]
  },
  {
   "cell_type": "markdown",
   "metadata": {},
   "source": [
    "The proportion of the values in the `contrib` column here are consistent with the proportion in the data frame `program_hobby_df`. The people who contribute to the open source project account for about `33%`."
   ]
  },
  {
   "cell_type": "code",
   "execution_count": 11,
   "metadata": {},
   "outputs": [
    {
     "data": {
      "text/plain": [
       "0    0.732332\n",
       "1    0.267668\n",
       "Name: both, dtype: float64"
      ]
     },
     "execution_count": 11,
     "metadata": {},
     "output_type": "execute_result"
    }
   ],
   "source": [
    "# View the ratios of the various values in column both.\n",
    "pro_hobby_df['both'].value_counts().sort_index()/pro_hobby_df.shape[0]"
   ]
  },
  {
   "cell_type": "code",
   "execution_count": 12,
   "metadata": {
    "scrolled": true
   },
   "outputs": [
    {
     "data": {
      "text/html": [
       "<div>\n",
       "<style scoped>\n",
       "    .dataframe tbody tr th:only-of-type {\n",
       "        vertical-align: middle;\n",
       "    }\n",
       "\n",
       "    .dataframe tbody tr th {\n",
       "        vertical-align: top;\n",
       "    }\n",
       "\n",
       "    .dataframe thead th {\n",
       "        text-align: right;\n",
       "    }\n",
       "</style>\n",
       "<table border=\"1\" class=\"dataframe\">\n",
       "  <thead>\n",
       "    <tr style=\"text-align: right;\">\n",
       "      <th></th>\n",
       "      <th>Professional</th>\n",
       "      <th>hobby</th>\n",
       "      <th>contrib</th>\n",
       "      <th>both</th>\n",
       "    </tr>\n",
       "  </thead>\n",
       "  <tbody>\n",
       "    <tr>\n",
       "      <th>0</th>\n",
       "      <td>Student</td>\n",
       "      <td>1</td>\n",
       "      <td>1</td>\n",
       "      <td>1</td>\n",
       "    </tr>\n",
       "    <tr>\n",
       "      <th>1</th>\n",
       "      <td>Student</td>\n",
       "      <td>1</td>\n",
       "      <td>1</td>\n",
       "      <td>1</td>\n",
       "    </tr>\n",
       "    <tr>\n",
       "      <th>2</th>\n",
       "      <td>Professional developer</td>\n",
       "      <td>1</td>\n",
       "      <td>1</td>\n",
       "      <td>1</td>\n",
       "    </tr>\n",
       "    <tr>\n",
       "      <th>3</th>\n",
       "      <td>Professional non-developer who sometimes write...</td>\n",
       "      <td>1</td>\n",
       "      <td>1</td>\n",
       "      <td>1</td>\n",
       "    </tr>\n",
       "    <tr>\n",
       "      <th>4</th>\n",
       "      <td>Professional developer</td>\n",
       "      <td>1</td>\n",
       "      <td>0</td>\n",
       "      <td>0</td>\n",
       "    </tr>\n",
       "  </tbody>\n",
       "</table>\n",
       "</div>"
      ],
      "text/plain": [
       "                                        Professional  hobby  contrib  both\n",
       "0                                            Student      1        1     1\n",
       "1                                            Student      1        1     1\n",
       "2                             Professional developer      1        1     1\n",
       "3  Professional non-developer who sometimes write...      1        1     1\n",
       "4                             Professional developer      1        0     0"
      ]
     },
     "execution_count": 12,
     "metadata": {},
     "output_type": "execute_result"
    }
   ],
   "source": [
    "# View the of dataframe.\n",
    "pro_hobby_df.head()"
   ]
  },
  {
   "cell_type": "code",
   "execution_count": 13,
   "metadata": {},
   "outputs": [
    {
     "data": {
      "text/html": [
       "<div>\n",
       "<style scoped>\n",
       "    .dataframe tbody tr th:only-of-type {\n",
       "        vertical-align: middle;\n",
       "    }\n",
       "\n",
       "    .dataframe tbody tr th {\n",
       "        vertical-align: top;\n",
       "    }\n",
       "\n",
       "    .dataframe thead th {\n",
       "        text-align: right;\n",
       "    }\n",
       "</style>\n",
       "<table border=\"1\" class=\"dataframe\">\n",
       "  <thead>\n",
       "    <tr style=\"text-align: right;\">\n",
       "      <th></th>\n",
       "      <th>hobby</th>\n",
       "      <th>contrib</th>\n",
       "      <th>both</th>\n",
       "    </tr>\n",
       "  </thead>\n",
       "  <tbody>\n",
       "    <tr>\n",
       "      <th>None of these</th>\n",
       "      <td>0.947484</td>\n",
       "      <td>0.354486</td>\n",
       "      <td>0.301969</td>\n",
       "    </tr>\n",
       "    <tr>\n",
       "      <th>Professional developer</th>\n",
       "      <td>0.729457</td>\n",
       "      <td>0.339432</td>\n",
       "      <td>0.277352</td>\n",
       "    </tr>\n",
       "    <tr>\n",
       "      <th>Professional non-developer who sometimes writes code</th>\n",
       "      <td>0.727626</td>\n",
       "      <td>0.297471</td>\n",
       "      <td>0.227821</td>\n",
       "    </tr>\n",
       "    <tr>\n",
       "      <th>Student</th>\n",
       "      <td>0.835846</td>\n",
       "      <td>0.287208</td>\n",
       "      <td>0.246960</td>\n",
       "    </tr>\n",
       "    <tr>\n",
       "      <th>Used to be a professional developer</th>\n",
       "      <td>0.733469</td>\n",
       "      <td>0.330621</td>\n",
       "      <td>0.261445</td>\n",
       "    </tr>\n",
       "  </tbody>\n",
       "</table>\n",
       "</div>"
      ],
      "text/plain": [
       "                                                       hobby   contrib  \\\n",
       "None of these                                       0.947484  0.354486   \n",
       "Professional developer                              0.729457  0.339432   \n",
       "Professional non-developer who sometimes writes...  0.727626  0.297471   \n",
       "Student                                             0.835846  0.287208   \n",
       "Used to be a professional developer                 0.733469  0.330621   \n",
       "\n",
       "                                                        both  \n",
       "None of these                                       0.301969  \n",
       "Professional developer                              0.277352  \n",
       "Professional non-developer who sometimes writes...  0.227821  \n",
       "Student                                             0.246960  \n",
       "Used to be a professional developer                 0.261445  "
      ]
     },
     "execution_count": 13,
     "metadata": {},
     "output_type": "execute_result"
    }
   ],
   "source": [
    "# Create a new dataframe to store ratio data.\n",
    "pro_vals = pro_hobby_df['Professional'].value_counts().sort_index()\n",
    "ratios_df = phs.gen_hobby_ratios_df(pro_vals, pro_hobby_df)\n",
    "ratios_df"
   ]
  },
  {
   "cell_type": "code",
   "execution_count": 14,
   "metadata": {},
   "outputs": [
    {
     "data": {
      "image/png": "[encoded data removed]",
      "text/plain": [
       "<Figure size 432x288 with 1 Axes>"
      ]
     },
     "metadata": {
      "needs_background": "light"
     },
     "output_type": "display_data"
    }
   ],
   "source": [
    "# Let's draw the graph.\n",
    "x = np.arange(pro_vals.index.size)\n",
    "labels = [phs.professional_map[str(v)] for v in pro_vals.index.values]\n",
    "width = 0.3\n",
    " \n",
    "# Draw a bar chart.\n",
    "plt.bar(x=x, height=ratios_df['hobby'], width=width, color='yellow', label=u'hobby')\n",
    "plt.bar(x=x+width, height=ratios_df['contrib'], width=width, color='red', label=u'contrib')\n",
    "plt.bar(x=x+width*2, height=ratios_df['both'], width=width, color='green', label=u'both')\n",
    "plt.xticks(x, labels, size='small', rotation=50, horizontalalignment='right')\n",
    "plt.xlabel('Professional')\n",
    "plt.ylabel('Hobby/Contribution ratio')\n",
    "plt.title('Program Hobby with Professional')\n",
    "plt.legend(loc='best')\n",
    "plt.show()"
   ]
  },
  {
   "cell_type": "markdown",
   "metadata": {
    "collapsed": true
   },
   "source": [
    "I found a very interesting point. From the sample as a whole, there are not many people who choose `None of these` in terms of Professional, only `914`. However, there are a lot of people in this segment who claim to be programming lover or/and to open source project contributor. I can't explain it right now. While we may be able to find out why in the other details of this dataset, since this is not the focus of my analysis, do not delve into it. I think we can eliminate this group of data in future analysis. Because it seems to me that this part of the data may skew our analysis."
   ]
  },
  {
   "cell_type": "code",
   "execution_count": 15,
   "metadata": {},
   "outputs": [
    {
     "data": {
      "image/png": "[encoded data removed]",
      "text/plain": [
       "<Figure size 432x288 with 1 Axes>"
      ]
     },
     "metadata": {
      "needs_background": "light"
     },
     "output_type": "display_data"
    }
   ],
   "source": [
    "# Draw another picture and \n",
    "# ignore the portion of the data that corresponds to ‘None of these’.\n",
    "\n",
    "pro_vals2 = pro_vals.drop('None of these')\n",
    "ratios_df2 = ratios_df.drop('None of these')\n",
    "\n",
    "x = np.arange(pro_vals2.index.size)\n",
    "labels = [phs.professional_map[str(v)] for v in pro_vals2.index.values]\n",
    "width = 0.3\n",
    " \n",
    "# Draw a bar chart.\n",
    "plt.bar(x=x, height=ratios_df2['hobby'], width=width, color='yellow', label=u'hobby')\n",
    "plt.bar(x=x+width, height=ratios_df2['contrib'], width=width, color='red', label=u'contrib')\n",
    "plt.bar(x=x+width*2, height=ratios_df2['both'], width=width, color='green', label=u'both')\n",
    "plt.xticks(x, labels, size='small', rotation=60, horizontalalignment='right')\n",
    "plt.xlabel('Professional')\n",
    "plt.ylabel('Hobby/Contribution ratio')\n",
    "plt.title('Program Hobby with Professional')\n",
    "plt.legend(loc='best')\n",
    "plt.show()"
   ]
  },
  {
   "cell_type": "markdown",
   "metadata": {},
   "source": [
    "Let's focus on people who choose other options in terms of Professional. Take a look at the share of programming lover first. Obviously, in the student population, the proportion of people who love programming is larger, even larger than the proportion of professional developers. However, in the student community, the proportion of open source project contributors is minimal. In the professional developer community, the proportion of open source project contributors is significantly larger."
   ]
  },
  {
   "cell_type": "markdown",
   "metadata": {},
   "source": [
    "People do not necessarily contribute to open source projects because they love programming, either because of job needs or because they may be assignments assigned by teachers.\n",
    "This can also be seen from the previous data statistics and diagrams, although there are fewer such people.\n",
    "I think if a person is a programming fanatic, then he should be both a programming lover and an open source project contributor. In this respect, the proportion of programming fanatics in the professional developer community is the largest (except for those who choose `None of these`)."
   ]
  },
  {
   "cell_type": "markdown",
   "metadata": {},
   "source": [
    "Because the subject of my study, \"Is it really important for professional developers to love programming?\", the audience for the article should be those who choose `Professional non-developer who sometimes writes code` or `Student` in  Professional way of the people. These people are most likely to become professional developers in the future, especially student groups. Of course, people who choose the `Professional Developer` option should also be audiences, and they should also be the focus of my study."
   ]
  }
 ],
 "metadata": {
  "kernelspec": {
   "display_name": "Python 3",
   "language": "python",
   "name": "python3"
  },
  "language_info": {
   "codemirror_mode": {
    "name": "ipython",
    "version": 3
   },
   "file_extension": ".py",
   "mimetype": "text/x-python",
   "name": "python",
   "nbconvert_exporter": "python",
   "pygments_lexer": "ipython3",
   "version": "3.6.6"
  }
 },
 "nbformat": 4,
 "nbformat_minor": 2
}
