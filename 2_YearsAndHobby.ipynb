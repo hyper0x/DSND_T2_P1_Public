{
 "cells": [
  {
   "cell_type": "markdown",
   "metadata": {},
   "source": [
    "Is there a correlation between programming experience and programming hobby? Let's explore."
   ]
  },
  {
   "cell_type": "code",
   "execution_count": 1,
   "metadata": {},
   "outputs": [],
   "source": [
    "import numpy as np\n",
    "import pandas as pd\n",
    "import matplotlib.pyplot as plt\n",
    "import YearsAndHobby as yh\n",
    "%matplotlib inline\n",
    "\n",
    "df = pd.read_csv('./survey_results_public.csv')"
   ]
  },
  {
   "cell_type": "code",
   "execution_count": 2,
   "metadata": {},
   "outputs": [
    {
     "name": "stdout",
     "output_type": "stream",
     "text": [
      "The total number of rows in data set is 51392.\n",
      "The number of rows with invalid YearsProgram is 247.\n"
     ]
    }
   ],
   "source": [
    "print(\"The total number of rows in data set is {}.\".format(df.shape[0]))\n",
    "\n",
    "# Check the column YearsProgram for missing values.\n",
    "print(\"The number of rows with invalid YearsProgram is {}.\"\n",
    "      .format(sum(df['YearsProgram'].isnull())))"
   ]
  },
  {
   "cell_type": "code",
   "execution_count": 3,
   "metadata": {},
   "outputs": [
    {
     "name": "stdout",
     "output_type": "stream",
     "text": [
      "8 to 9 years\n",
      "0\n"
     ]
    }
   ],
   "source": [
    "# Fill in the missing values.\n",
    "yp_median = yh.get_median_of_years(\n",
    "    df[df['YearsProgram'].isnull()==False]['YearsProgram'])\n",
    "print(yp_median)\n",
    "years_program_df = df.copy()\n",
    "years_program_df['YearsProgram'].fillna(yp_median, inplace=True)\n",
    "print(sum(years_program_df['YearsProgram'].isnull()))"
   ]
  },
  {
   "cell_type": "code",
   "execution_count": 4,
   "metadata": {},
   "outputs": [
    {
     "data": {
      "text/plain": [
       "[[50478, 36131, 14347], [1.0000000000000002, 1.0, 1.0]]"
      ]
     },
     "execution_count": 4,
     "metadata": {},
     "output_type": "execute_result"
    }
   ],
   "source": [
    "# Let's take a look at the counts and ratios of people \n",
    "# with different programming experiences.\n",
    "counts_df = yh.gen_counts_df_by_years(\n",
    "    'YearsProgram', years_program_df)\n",
    "counts = [\n",
    "    sum(counts_df['count']),\n",
    "    sum(counts_df['dev_count']),\n",
    "    sum(counts_df['not_dev_count'])\n",
    "]\n",
    "sums = [\n",
    "    sum(counts_df['ratio']),\n",
    "    sum(counts_df['dev_ratio']),\n",
    "    sum(counts_df['not_dev_ratio'])\n",
    "]\n",
    "[counts, sums]"
   ]
  },
  {
   "cell_type": "code",
   "execution_count": 5,
   "metadata": {},
   "outputs": [
    {
     "data": {
      "text/html": [
       "<div>\n",
       "<style scoped>\n",
       "    .dataframe tbody tr th:only-of-type {\n",
       "        vertical-align: middle;\n",
       "    }\n",
       "\n",
       "    .dataframe tbody tr th {\n",
       "        vertical-align: top;\n",
       "    }\n",
       "\n",
       "    .dataframe thead th {\n",
       "        text-align: right;\n",
       "    }\n",
       "</style>\n",
       "<table border=\"1\" class=\"dataframe\">\n",
       "  <thead>\n",
       "    <tr style=\"text-align: right;\">\n",
       "      <th></th>\n",
       "      <th>years</th>\n",
       "      <th>count</th>\n",
       "      <th>ratio</th>\n",
       "      <th>dev_count</th>\n",
       "      <th>dev_ratio</th>\n",
       "      <th>not_dev_count</th>\n",
       "      <th>not_dev_ratio</th>\n",
       "    </tr>\n",
       "  </thead>\n",
       "  <tbody>\n",
       "    <tr>\n",
       "      <th>Less than a year</th>\n",
       "      <td>0.5</td>\n",
       "      <td>1416</td>\n",
       "      <td>0.028052</td>\n",
       "      <td>395</td>\n",
       "      <td>0.010932</td>\n",
       "      <td>1021</td>\n",
       "      <td>0.071165</td>\n",
       "    </tr>\n",
       "    <tr>\n",
       "      <th>1 to 2 years</th>\n",
       "      <td>1.5</td>\n",
       "      <td>2675</td>\n",
       "      <td>0.052993</td>\n",
       "      <td>904</td>\n",
       "      <td>0.025020</td>\n",
       "      <td>1771</td>\n",
       "      <td>0.123440</td>\n",
       "    </tr>\n",
       "    <tr>\n",
       "      <th>2 to 3 years</th>\n",
       "      <td>2.5</td>\n",
       "      <td>3178</td>\n",
       "      <td>0.062958</td>\n",
       "      <td>1337</td>\n",
       "      <td>0.037004</td>\n",
       "      <td>1841</td>\n",
       "      <td>0.128320</td>\n",
       "    </tr>\n",
       "    <tr>\n",
       "      <th>3 to 4 years</th>\n",
       "      <td>3.5</td>\n",
       "      <td>3607</td>\n",
       "      <td>0.071457</td>\n",
       "      <td>1863</td>\n",
       "      <td>0.051562</td>\n",
       "      <td>1744</td>\n",
       "      <td>0.121559</td>\n",
       "    </tr>\n",
       "    <tr>\n",
       "      <th>4 to 5 years</th>\n",
       "      <td>4.5</td>\n",
       "      <td>3791</td>\n",
       "      <td>0.075102</td>\n",
       "      <td>2353</td>\n",
       "      <td>0.065124</td>\n",
       "      <td>1438</td>\n",
       "      <td>0.100230</td>\n",
       "    </tr>\n",
       "    <tr>\n",
       "      <th>5 to 6 years</th>\n",
       "      <td>5.5</td>\n",
       "      <td>3496</td>\n",
       "      <td>0.069258</td>\n",
       "      <td>2445</td>\n",
       "      <td>0.067670</td>\n",
       "      <td>1051</td>\n",
       "      <td>0.073256</td>\n",
       "    </tr>\n",
       "    <tr>\n",
       "      <th>6 to 7 years</th>\n",
       "      <td>6.5</td>\n",
       "      <td>2817</td>\n",
       "      <td>0.055806</td>\n",
       "      <td>2104</td>\n",
       "      <td>0.058233</td>\n",
       "      <td>713</td>\n",
       "      <td>0.049697</td>\n",
       "    </tr>\n",
       "    <tr>\n",
       "      <th>7 to 8 years</th>\n",
       "      <td>7.5</td>\n",
       "      <td>2428</td>\n",
       "      <td>0.048100</td>\n",
       "      <td>1886</td>\n",
       "      <td>0.052199</td>\n",
       "      <td>542</td>\n",
       "      <td>0.037778</td>\n",
       "    </tr>\n",
       "    <tr>\n",
       "      <th>8 to 9 years</th>\n",
       "      <td>8.5</td>\n",
       "      <td>2117</td>\n",
       "      <td>0.041939</td>\n",
       "      <td>1637</td>\n",
       "      <td>0.045307</td>\n",
       "      <td>480</td>\n",
       "      <td>0.033456</td>\n",
       "    </tr>\n",
       "    <tr>\n",
       "      <th>9 to 10 years</th>\n",
       "      <td>9.5</td>\n",
       "      <td>3152</td>\n",
       "      <td>0.062443</td>\n",
       "      <td>2548</td>\n",
       "      <td>0.070521</td>\n",
       "      <td>604</td>\n",
       "      <td>0.042099</td>\n",
       "    </tr>\n",
       "    <tr>\n",
       "      <th>10 to 11 years</th>\n",
       "      <td>10.5</td>\n",
       "      <td>2135</td>\n",
       "      <td>0.042296</td>\n",
       "      <td>1806</td>\n",
       "      <td>0.049985</td>\n",
       "      <td>329</td>\n",
       "      <td>0.022932</td>\n",
       "    </tr>\n",
       "    <tr>\n",
       "      <th>11 to 12 years</th>\n",
       "      <td>11.5</td>\n",
       "      <td>1375</td>\n",
       "      <td>0.027240</td>\n",
       "      <td>1196</td>\n",
       "      <td>0.033102</td>\n",
       "      <td>179</td>\n",
       "      <td>0.012476</td>\n",
       "    </tr>\n",
       "    <tr>\n",
       "      <th>12 to 13 years</th>\n",
       "      <td>12.5</td>\n",
       "      <td>1295</td>\n",
       "      <td>0.025655</td>\n",
       "      <td>1144</td>\n",
       "      <td>0.031663</td>\n",
       "      <td>151</td>\n",
       "      <td>0.010525</td>\n",
       "    </tr>\n",
       "    <tr>\n",
       "      <th>13 to 14 years</th>\n",
       "      <td>13.5</td>\n",
       "      <td>1077</td>\n",
       "      <td>0.021336</td>\n",
       "      <td>936</td>\n",
       "      <td>0.025906</td>\n",
       "      <td>141</td>\n",
       "      <td>0.009828</td>\n",
       "    </tr>\n",
       "    <tr>\n",
       "      <th>14 to 15 years</th>\n",
       "      <td>14.5</td>\n",
       "      <td>1996</td>\n",
       "      <td>0.039542</td>\n",
       "      <td>1713</td>\n",
       "      <td>0.047411</td>\n",
       "      <td>283</td>\n",
       "      <td>0.019725</td>\n",
       "    </tr>\n",
       "    <tr>\n",
       "      <th>15 to 16 years</th>\n",
       "      <td>15.5</td>\n",
       "      <td>1645</td>\n",
       "      <td>0.032588</td>\n",
       "      <td>1444</td>\n",
       "      <td>0.039966</td>\n",
       "      <td>201</td>\n",
       "      <td>0.014010</td>\n",
       "    </tr>\n",
       "    <tr>\n",
       "      <th>16 to 17 years</th>\n",
       "      <td>16.5</td>\n",
       "      <td>1036</td>\n",
       "      <td>0.020524</td>\n",
       "      <td>907</td>\n",
       "      <td>0.025103</td>\n",
       "      <td>129</td>\n",
       "      <td>0.008991</td>\n",
       "    </tr>\n",
       "    <tr>\n",
       "      <th>17 to 18 years</th>\n",
       "      <td>17.5</td>\n",
       "      <td>875</td>\n",
       "      <td>0.017334</td>\n",
       "      <td>775</td>\n",
       "      <td>0.021450</td>\n",
       "      <td>100</td>\n",
       "      <td>0.006970</td>\n",
       "    </tr>\n",
       "    <tr>\n",
       "      <th>18 to 19 years</th>\n",
       "      <td>18.5</td>\n",
       "      <td>641</td>\n",
       "      <td>0.012699</td>\n",
       "      <td>547</td>\n",
       "      <td>0.015139</td>\n",
       "      <td>94</td>\n",
       "      <td>0.006552</td>\n",
       "    </tr>\n",
       "    <tr>\n",
       "      <th>19 to 20 years</th>\n",
       "      <td>19.5</td>\n",
       "      <td>1011</td>\n",
       "      <td>0.020029</td>\n",
       "      <td>874</td>\n",
       "      <td>0.024190</td>\n",
       "      <td>137</td>\n",
       "      <td>0.009549</td>\n",
       "    </tr>\n",
       "    <tr>\n",
       "      <th>20 or more years</th>\n",
       "      <td>20.5</td>\n",
       "      <td>8715</td>\n",
       "      <td>0.172649</td>\n",
       "      <td>7317</td>\n",
       "      <td>0.202513</td>\n",
       "      <td>1398</td>\n",
       "      <td>0.097442</td>\n",
       "    </tr>\n",
       "  </tbody>\n",
       "</table>\n",
       "</div>"
      ],
      "text/plain": [
       "                  years  count     ratio  dev_count  dev_ratio  not_dev_count  \\\n",
       "Less than a year    0.5   1416  0.028052        395   0.010932           1021   \n",
       "1 to 2 years        1.5   2675  0.052993        904   0.025020           1771   \n",
       "2 to 3 years        2.5   3178  0.062958       1337   0.037004           1841   \n",
       "3 to 4 years        3.5   3607  0.071457       1863   0.051562           1744   \n",
       "4 to 5 years        4.5   3791  0.075102       2353   0.065124           1438   \n",
       "5 to 6 years        5.5   3496  0.069258       2445   0.067670           1051   \n",
       "6 to 7 years        6.5   2817  0.055806       2104   0.058233            713   \n",
       "7 to 8 years        7.5   2428  0.048100       1886   0.052199            542   \n",
       "8 to 9 years        8.5   2117  0.041939       1637   0.045307            480   \n",
       "9 to 10 years       9.5   3152  0.062443       2548   0.070521            604   \n",
       "10 to 11 years     10.5   2135  0.042296       1806   0.049985            329   \n",
       "11 to 12 years     11.5   1375  0.027240       1196   0.033102            179   \n",
       "12 to 13 years     12.5   1295  0.025655       1144   0.031663            151   \n",
       "13 to 14 years     13.5   1077  0.021336        936   0.025906            141   \n",
       "14 to 15 years     14.5   1996  0.039542       1713   0.047411            283   \n",
       "15 to 16 years     15.5   1645  0.032588       1444   0.039966            201   \n",
       "16 to 17 years     16.5   1036  0.020524        907   0.025103            129   \n",
       "17 to 18 years     17.5    875  0.017334        775   0.021450            100   \n",
       "18 to 19 years     18.5    641  0.012699        547   0.015139             94   \n",
       "19 to 20 years     19.5   1011  0.020029        874   0.024190            137   \n",
       "20 or more years   20.5   8715  0.172649       7317   0.202513           1398   \n",
       "\n",
       "                  not_dev_ratio  \n",
       "Less than a year       0.071165  \n",
       "1 to 2 years           0.123440  \n",
       "2 to 3 years           0.128320  \n",
       "3 to 4 years           0.121559  \n",
       "4 to 5 years           0.100230  \n",
       "5 to 6 years           0.073256  \n",
       "6 to 7 years           0.049697  \n",
       "7 to 8 years           0.037778  \n",
       "8 to 9 years           0.033456  \n",
       "9 to 10 years          0.042099  \n",
       "10 to 11 years         0.022932  \n",
       "11 to 12 years         0.012476  \n",
       "12 to 13 years         0.010525  \n",
       "13 to 14 years         0.009828  \n",
       "14 to 15 years         0.019725  \n",
       "15 to 16 years         0.014010  \n",
       "16 to 17 years         0.008991  \n",
       "17 to 18 years         0.006970  \n",
       "18 to 19 years         0.006552  \n",
       "19 to 20 years         0.009549  \n",
       "20 or more years       0.097442  "
      ]
     },
     "execution_count": 5,
     "metadata": {},
     "output_type": "execute_result"
    }
   ],
   "source": [
    "counts_df"
   ]
  },
  {
   "cell_type": "code",
   "execution_count": 6,
   "metadata": {},
   "outputs": [
    {
     "data": {
      "image/png": "[encoded data removed]",
      "text/plain": [
       "<Figure size 432x288 with 1 Axes>"
      ]
     },
     "metadata": {
      "needs_background": "light"
     },
     "output_type": "display_data"
    }
   ],
   "source": [
    "# Let's draw the graph.\n",
    "x = np.arange(len(counts_df['years']))\n",
    "width = 0.25\n",
    "\n",
    "# Draw a bar chart.\n",
    "plt.bar(x=x, height=counts_df['not_dev_ratio'], width=width, color='red', label=u'not dev')\n",
    "plt.bar(x=x+width, height=counts_df['dev_ratio'], width=width, color='lightblue', label=u'dev')\n",
    "plt.bar(x=x+width*2, height=counts_df['ratio'], width=width, color='green', label=u'overall')\n",
    "plt.xticks(x, counts_df['years'], size='small',rotation=90)\n",
    "plt.xlabel('YearsProgram')\n",
    "plt.ylabel('Not Dev/Dev/Overall ratio')\n",
    "plt.title('Programming Experience of Users')\n",
    "plt.legend()\n",
    "plt.show()"
   ]
  },
  {
   "cell_type": "markdown",
   "metadata": {},
   "source": [
    "Overall, most of the sample users in StackOverflow's programming experience is within 1-8 years. However, many of the programming experience of non-professional developers is within 5 years, and the proportion is very large. For professional developers, most of their programming experience is 2 years to 10, and there are many more people with more experience."
   ]
  },
  {
   "cell_type": "markdown",
   "metadata": {},
   "source": [
    "I want to focus on professional developers and want to see the impact of programming hobby on their careers. So, I need to sort out the relevant data."
   ]
  },
  {
   "cell_type": "code",
   "execution_count": 7,
   "metadata": {},
   "outputs": [
    {
     "data": {
      "text/html": [
       "<div>\n",
       "<style scoped>\n",
       "    .dataframe tbody tr th:only-of-type {\n",
       "        vertical-align: middle;\n",
       "    }\n",
       "\n",
       "    .dataframe tbody tr th {\n",
       "        vertical-align: top;\n",
       "    }\n",
       "\n",
       "    .dataframe thead th {\n",
       "        text-align: right;\n",
       "    }\n",
       "</style>\n",
       "<table border=\"1\" class=\"dataframe\">\n",
       "  <thead>\n",
       "    <tr style=\"text-align: right;\">\n",
       "      <th></th>\n",
       "      <th>years</th>\n",
       "      <th>hobby_ratio</th>\n",
       "      <th>contrib_ratio</th>\n",
       "    </tr>\n",
       "  </thead>\n",
       "  <tbody>\n",
       "    <tr>\n",
       "      <th>Less than a year</th>\n",
       "      <td>0.5</td>\n",
       "      <td>0.665823</td>\n",
       "      <td>0.389873</td>\n",
       "    </tr>\n",
       "    <tr>\n",
       "      <th>1 to 2 years</th>\n",
       "      <td>1.5</td>\n",
       "      <td>0.738938</td>\n",
       "      <td>0.335177</td>\n",
       "    </tr>\n",
       "    <tr>\n",
       "      <th>2 to 3 years</th>\n",
       "      <td>2.5</td>\n",
       "      <td>0.737472</td>\n",
       "      <td>0.290202</td>\n",
       "    </tr>\n",
       "    <tr>\n",
       "      <th>3 to 4 years</th>\n",
       "      <td>3.5</td>\n",
       "      <td>0.730542</td>\n",
       "      <td>0.321524</td>\n",
       "    </tr>\n",
       "    <tr>\n",
       "      <th>4 to 5 years</th>\n",
       "      <td>4.5</td>\n",
       "      <td>0.736932</td>\n",
       "      <td>0.333617</td>\n",
       "    </tr>\n",
       "    <tr>\n",
       "      <th>5 to 6 years</th>\n",
       "      <td>5.5</td>\n",
       "      <td>0.730061</td>\n",
       "      <td>0.311247</td>\n",
       "    </tr>\n",
       "    <tr>\n",
       "      <th>6 to 7 years</th>\n",
       "      <td>6.5</td>\n",
       "      <td>0.733840</td>\n",
       "      <td>0.314163</td>\n",
       "    </tr>\n",
       "    <tr>\n",
       "      <th>7 to 8 years</th>\n",
       "      <td>7.5</td>\n",
       "      <td>0.738070</td>\n",
       "      <td>0.331919</td>\n",
       "    </tr>\n",
       "    <tr>\n",
       "      <th>8 to 9 years</th>\n",
       "      <td>8.5</td>\n",
       "      <td>0.745266</td>\n",
       "      <td>0.315211</td>\n",
       "    </tr>\n",
       "    <tr>\n",
       "      <th>9 to 10 years</th>\n",
       "      <td>9.5</td>\n",
       "      <td>0.718210</td>\n",
       "      <td>0.332418</td>\n",
       "    </tr>\n",
       "    <tr>\n",
       "      <th>10 to 11 years</th>\n",
       "      <td>10.5</td>\n",
       "      <td>0.760244</td>\n",
       "      <td>0.342193</td>\n",
       "    </tr>\n",
       "    <tr>\n",
       "      <th>11 to 12 years</th>\n",
       "      <td>11.5</td>\n",
       "      <td>0.768395</td>\n",
       "      <td>0.334448</td>\n",
       "    </tr>\n",
       "    <tr>\n",
       "      <th>12 to 13 years</th>\n",
       "      <td>12.5</td>\n",
       "      <td>0.741259</td>\n",
       "      <td>0.343531</td>\n",
       "    </tr>\n",
       "    <tr>\n",
       "      <th>13 to 14 years</th>\n",
       "      <td>13.5</td>\n",
       "      <td>0.731838</td>\n",
       "      <td>0.339744</td>\n",
       "    </tr>\n",
       "    <tr>\n",
       "      <th>14 to 15 years</th>\n",
       "      <td>14.5</td>\n",
       "      <td>0.727379</td>\n",
       "      <td>0.330998</td>\n",
       "    </tr>\n",
       "    <tr>\n",
       "      <th>15 to 16 years</th>\n",
       "      <td>15.5</td>\n",
       "      <td>0.747922</td>\n",
       "      <td>0.344183</td>\n",
       "    </tr>\n",
       "    <tr>\n",
       "      <th>16 to 17 years</th>\n",
       "      <td>16.5</td>\n",
       "      <td>0.712238</td>\n",
       "      <td>0.366042</td>\n",
       "    </tr>\n",
       "    <tr>\n",
       "      <th>17 to 18 years</th>\n",
       "      <td>17.5</td>\n",
       "      <td>0.722581</td>\n",
       "      <td>0.349677</td>\n",
       "    </tr>\n",
       "    <tr>\n",
       "      <th>18 to 19 years</th>\n",
       "      <td>18.5</td>\n",
       "      <td>0.718464</td>\n",
       "      <td>0.327239</td>\n",
       "    </tr>\n",
       "    <tr>\n",
       "      <th>19 to 20 years</th>\n",
       "      <td>19.5</td>\n",
       "      <td>0.699085</td>\n",
       "      <td>0.340961</td>\n",
       "    </tr>\n",
       "    <tr>\n",
       "      <th>20 or more years</th>\n",
       "      <td>20.5</td>\n",
       "      <td>0.712314</td>\n",
       "      <td>0.375974</td>\n",
       "    </tr>\n",
       "  </tbody>\n",
       "</table>\n",
       "</div>"
      ],
      "text/plain": [
       "                  years  hobby_ratio  contrib_ratio\n",
       "Less than a year    0.5     0.665823       0.389873\n",
       "1 to 2 years        1.5     0.738938       0.335177\n",
       "2 to 3 years        2.5     0.737472       0.290202\n",
       "3 to 4 years        3.5     0.730542       0.321524\n",
       "4 to 5 years        4.5     0.736932       0.333617\n",
       "5 to 6 years        5.5     0.730061       0.311247\n",
       "6 to 7 years        6.5     0.733840       0.314163\n",
       "7 to 8 years        7.5     0.738070       0.331919\n",
       "8 to 9 years        8.5     0.745266       0.315211\n",
       "9 to 10 years       9.5     0.718210       0.332418\n",
       "10 to 11 years     10.5     0.760244       0.342193\n",
       "11 to 12 years     11.5     0.768395       0.334448\n",
       "12 to 13 years     12.5     0.741259       0.343531\n",
       "13 to 14 years     13.5     0.731838       0.339744\n",
       "14 to 15 years     14.5     0.727379       0.330998\n",
       "15 to 16 years     15.5     0.747922       0.344183\n",
       "16 to 17 years     16.5     0.712238       0.366042\n",
       "17 to 18 years     17.5     0.722581       0.349677\n",
       "18 to 19 years     18.5     0.718464       0.327239\n",
       "19 to 20 years     19.5     0.699085       0.340961\n",
       "20 or more years   20.5     0.712314       0.375974"
      ]
     },
     "execution_count": 7,
     "metadata": {},
     "output_type": "execute_result"
    }
   ],
   "source": [
    "dev_hobby_ratios_df = yh.gen_hobby_ratios_df_by_years(\n",
    "    'YearsProgram', years_program_df, only_dev=True)\n",
    "dev_hobby_ratios_df"
   ]
  },
  {
   "cell_type": "code",
   "execution_count": 8,
   "metadata": {},
   "outputs": [
    {
     "data": {
      "image/png": "[encoded data removed]",
      "text/plain": [
       "<Figure size 432x288 with 1 Axes>"
      ]
     },
     "metadata": {
      "needs_background": "light"
     },
     "output_type": "display_data"
    }
   ],
   "source": [
    "# Let's draw the graph.\n",
    "x = np.arange(len(counts_df['years']))\n",
    "\n",
    "# Draw a line chart.\n",
    "plt.plot(x, dev_hobby_ratios_df['hobby_ratio'], 'yellow')\n",
    "plt.plot(x, dev_hobby_ratios_df['contrib_ratio'], 'red')\n",
    "plt.xticks(x, counts_df['years'], size='small',rotation=90)\n",
    "plt.xlabel('YearsProgram')\n",
    "plt.ylabel('Hobby/Contrib ratio')\n",
    "plt.title('Hobby ratio with Programming Experience')\n",
    "plt.legend()\n",
    "plt.show()"
   ]
  },
  {
   "cell_type": "markdown",
   "metadata": {},
   "source": [
    "As we can see, the proportion of professional developers who love programming does not increase with the increase in programming experience. Overall, while the curve on the contribution ratio of open source projects has risen slightly, it doesn't mean anything."
   ]
  },
  {
   "cell_type": "markdown",
   "metadata": {},
   "source": [
    "It may not be so appropriate to choose feature YearsProgram here. Let's try again with feature YearsCodedJob."
   ]
  },
  {
   "cell_type": "code",
   "execution_count": 9,
   "metadata": {
    "scrolled": false
   },
   "outputs": [
    {
     "name": "stdout",
     "output_type": "stream",
     "text": [
      "The number of rows with invalid YearsCodedJob is 10502.\n"
     ]
    }
   ],
   "source": [
    "print(\"The number of rows with invalid YearsCodedJob is {}.\"\n",
    "      .format(sum(df['YearsCodedJob'].isnull())))"
   ]
  },
  {
   "cell_type": "code",
   "execution_count": 10,
   "metadata": {},
   "outputs": [],
   "source": [
    "# Discard rows with missing values.\n",
    "# Because if we fill in the missing values with the median, \n",
    "# it will have a serious impact on the following analysis.\n",
    "years_coded_job_df = df[df['YearsCodedJob'].isnull()==False]"
   ]
  },
  {
   "cell_type": "code",
   "execution_count": 11,
   "metadata": {},
   "outputs": [
    {
     "data": {
      "image/png": "[encoded data removed]",
      "text/plain": [
       "<Figure size 432x288 with 1 Axes>"
      ]
     },
     "metadata": {
      "needs_background": "light"
     },
     "output_type": "display_data"
    }
   ],
   "source": [
    "counts_df2 = yh.gen_counts_df_by_years('YearsCodedJob', years_coded_job_df)\n",
    "\n",
    "x = np.arange(len(counts_df['years']))\n",
    "width = 0.25\n",
    "\n",
    "# Draw a bar chart.\n",
    "plt.bar(x=x, height=counts_df2['not_dev_ratio'], width=width, color='red', label=u'not dev')\n",
    "plt.bar(x=x+width, height=counts_df2['dev_ratio'], width=width, color='lightblue', label=u'dev')\n",
    "plt.bar(x=x+width*2, height=counts_df2['ratio'], width=width, color='green', label=u'overall')\n",
    "plt.xticks(x, counts_df2['years'], size='small',rotation=90)\n",
    "plt.xlabel('YearsCodedJob')\n",
    "plt.ylabel('Not Dev/Dev/Overall ratio')\n",
    "plt.title('Coded Job Experience of Users')\n",
    "plt.legend()\n",
    "plt.show()"
   ]
  },
  {
   "cell_type": "markdown",
   "metadata": {},
   "source": [
    "Obviously, from this point of view, most sample users have less experience in coded job."
   ]
  },
  {
   "cell_type": "code",
   "execution_count": 12,
   "metadata": {},
   "outputs": [
    {
     "data": {
      "image/png": "[encoded data removed]",
      "text/plain": [
       "<Figure size 432x288 with 1 Axes>"
      ]
     },
     "metadata": {
      "needs_background": "light"
     },
     "output_type": "display_data"
    }
   ],
   "source": [
    "dev_hobby_ratios_df2 = yh.gen_hobby_ratios_df_by_years(\n",
    "    'YearsCodedJob', years_coded_job_df, only_dev=True)\n",
    "\n",
    "x = np.arange(len(counts_df['years']))\n",
    "\n",
    "# 绘制折线图。\n",
    "# Draw a line chart.\n",
    "plt.plot(x, dev_hobby_ratios_df2['hobby_ratio'], 'yellow')\n",
    "plt.plot(x, dev_hobby_ratios_df2['contrib_ratio'], 'red')\n",
    "plt.xticks(x, counts_df['years'], size='small',rotation=90)\n",
    "plt.xlabel('YearsCodedJob')\n",
    "plt.ylabel('Hobby/Contrib ratio')\n",
    "plt.title('Hobby ratio with Coded Job Experience')\n",
    "plt.legend()\n",
    "plt.show()"
   ]
  },
  {
   "cell_type": "markdown",
   "metadata": {},
   "source": [
    "I'm a little surprised that among professional developers with more experience in coded job, the proportion of people who love programming is smaller.\n",
    "Well, maybe it's because the heavy work has worn away their enthusiasm.\n",
    "Professional developers who seem to have more experience in coded job are more willing to contribute to open source projects. \n",
    "However, this trend is still less pronounced, especially among people with more than 10 years of coded job experience.\n",
    "At this point, we can come to the conclusion that the love of programming by professional developers has nothing to do with the amount of programming experience they have and the number of years they work in programming. At this point, we can come to the conclusion that the love of programming by professional developers has little to do with the amount of programming experience they have and the number of years they work in programming. In turn, love programming will allow professional developers to stay in programming jobs longer? At least from the above analysis, this is not the case."
   ]
  }
 ],
 "metadata": {
  "kernelspec": {
   "display_name": "Python 3",
   "language": "python",
   "name": "python3"
  },
  "language_info": {
   "codemirror_mode": {
    "name": "ipython",
    "version": 3
   },
   "file_extension": ".py",
   "mimetype": "text/x-python",
   "name": "python",
   "nbconvert_exporter": "python",
   "pygments_lexer": "ipython3",
   "version": "3.6.6"
  }
 },
 "nbformat": 4,
 "nbformat_minor": 2
}
