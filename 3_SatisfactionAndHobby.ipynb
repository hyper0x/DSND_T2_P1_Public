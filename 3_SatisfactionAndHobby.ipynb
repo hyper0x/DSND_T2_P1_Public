{
 "cells": [
  {
   "cell_type": "markdown",
   "metadata": {},
   "source": [
    "Is there a correlation between job or career satisfaction and programming hobby? Let's explore."
   ]
  },
  {
   "cell_type": "code",
   "execution_count": 1,
   "metadata": {},
   "outputs": [],
   "source": [
    "import numpy as np\n",
    "import pandas as pd\n",
    "import matplotlib.pyplot as plt\n",
    "import SatisfactionAndHobby as sh\n",
    "%matplotlib inline\n",
    "\n",
    "df = pd.read_csv('./survey_results_public.csv')"
   ]
  },
  {
   "cell_type": "code",
   "execution_count": 2,
   "metadata": {},
   "outputs": [
    {
     "name": "stdout",
     "output_type": "stream",
     "text": [
      "The total number of rows in data set is 51392.\n",
      "The number of rows with invalid JobSatisfaction is 11016.\n"
     ]
    }
   ],
   "source": [
    "print(\"The total number of rows in data set is {}.\".format(df.shape[0]))\n",
    "\n",
    "# Check the column JobSatisfaction for missing values.\n",
    "print(\"The number of rows with invalid JobSatisfaction is {}.\"\n",
    "      .format(sum(df['JobSatisfaction'].isnull())))"
   ]
  },
  {
   "cell_type": "code",
   "execution_count": 3,
   "metadata": {},
   "outputs": [
    {
     "name": "stdout",
     "output_type": "stream",
     "text": [
      "7.0\n",
      "0\n"
     ]
    }
   ],
   "source": [
    "# Fill in the missing values.\n",
    "js_median = df[df['JobSatisfaction'].isnull()==False][\n",
    "    'JobSatisfaction'].median()\n",
    "print(js_median)\n",
    "job_satis_df = df.copy()\n",
    "job_satis_df['JobSatisfaction'].fillna(js_median, inplace=True)\n",
    "print(sum(job_satis_df['JobSatisfaction'].isnull()))"
   ]
  },
  {
   "cell_type": "code",
   "execution_count": 4,
   "metadata": {
    "scrolled": true
   },
   "outputs": [
    {
     "data": {
      "image/png": "[encoded data removed]",
      "text/plain": [
       "<Figure size 432x288 with 1 Axes>"
      ]
     },
     "metadata": {
      "needs_background": "light"
     },
     "output_type": "display_data"
    }
   ],
   "source": [
    "job_satis_df['JobSatisfaction'][\n",
    "    job_satis_df['Professional']=='Professional developer'].hist(bins=10);\n",
    "plt.title('JobSatisfaction Stats for Professional developer');\n",
    "plt.xlabel('JobSatisfaction');\n",
    "plt.ylabel('Count');"
   ]
  },
  {
   "cell_type": "code",
   "execution_count": 5,
   "metadata": {
    "scrolled": true
   },
   "outputs": [
    {
     "data": {
      "text/plain": [
       "ProgramHobby\n",
       "No                                           7.0\n",
       "Yes, I contribute to open source projects    7.0\n",
       "Yes, I program as a hobby                    7.0\n",
       "Yes, both                                    7.0\n",
       "Name: JobSatisfaction, dtype: float64"
      ]
     },
     "execution_count": 5,
     "metadata": {},
     "output_type": "execute_result"
    }
   ],
   "source": [
    "job_satis_df[job_satis_df['Professional']=='Professional developer'].groupby(\n",
    "    ['ProgramHobby']).median()['JobSatisfaction'].sort_values()"
   ]
  },
  {
   "cell_type": "code",
   "execution_count": 6,
   "metadata": {},
   "outputs": [
    {
     "data": {
      "text/html": [
       "<div>\n",
       "<style scoped>\n",
       "    .dataframe tbody tr th:only-of-type {\n",
       "        vertical-align: middle;\n",
       "    }\n",
       "\n",
       "    .dataframe tbody tr th {\n",
       "        vertical-align: top;\n",
       "    }\n",
       "\n",
       "    .dataframe thead th {\n",
       "        text-align: right;\n",
       "    }\n",
       "</style>\n",
       "<table border=\"1\" class=\"dataframe\">\n",
       "  <thead>\n",
       "    <tr style=\"text-align: right;\">\n",
       "      <th></th>\n",
       "      <th>satis</th>\n",
       "      <th>hobby_ratio</th>\n",
       "      <th>contrib_ratio</th>\n",
       "    </tr>\n",
       "  </thead>\n",
       "  <tbody>\n",
       "    <tr>\n",
       "      <th>0.0</th>\n",
       "      <td>0.0</td>\n",
       "      <td>0.710456</td>\n",
       "      <td>0.345845</td>\n",
       "    </tr>\n",
       "    <tr>\n",
       "      <th>1.0</th>\n",
       "      <td>1.0</td>\n",
       "      <td>0.716724</td>\n",
       "      <td>0.279863</td>\n",
       "    </tr>\n",
       "    <tr>\n",
       "      <th>2.0</th>\n",
       "      <td>2.0</td>\n",
       "      <td>0.730769</td>\n",
       "      <td>0.313187</td>\n",
       "    </tr>\n",
       "    <tr>\n",
       "      <th>3.0</th>\n",
       "      <td>3.0</td>\n",
       "      <td>0.708955</td>\n",
       "      <td>0.310448</td>\n",
       "    </tr>\n",
       "    <tr>\n",
       "      <th>4.0</th>\n",
       "      <td>4.0</td>\n",
       "      <td>0.723323</td>\n",
       "      <td>0.322045</td>\n",
       "    </tr>\n",
       "    <tr>\n",
       "      <th>5.0</th>\n",
       "      <td>5.0</td>\n",
       "      <td>0.694044</td>\n",
       "      <td>0.326646</td>\n",
       "    </tr>\n",
       "    <tr>\n",
       "      <th>6.0</th>\n",
       "      <td>6.0</td>\n",
       "      <td>0.716609</td>\n",
       "      <td>0.307048</td>\n",
       "    </tr>\n",
       "    <tr>\n",
       "      <th>7.0</th>\n",
       "      <td>7.0</td>\n",
       "      <td>0.730726</td>\n",
       "      <td>0.330281</td>\n",
       "    </tr>\n",
       "    <tr>\n",
       "      <th>8.0</th>\n",
       "      <td>8.0</td>\n",
       "      <td>0.733461</td>\n",
       "      <td>0.338422</td>\n",
       "    </tr>\n",
       "    <tr>\n",
       "      <th>9.0</th>\n",
       "      <td>9.0</td>\n",
       "      <td>0.750959</td>\n",
       "      <td>0.367199</td>\n",
       "    </tr>\n",
       "    <tr>\n",
       "      <th>10.0</th>\n",
       "      <td>10.0</td>\n",
       "      <td>0.746750</td>\n",
       "      <td>0.398158</td>\n",
       "    </tr>\n",
       "  </tbody>\n",
       "</table>\n",
       "</div>"
      ],
      "text/plain": [
       "      satis  hobby_ratio  contrib_ratio\n",
       "0.0     0.0     0.710456       0.345845\n",
       "1.0     1.0     0.716724       0.279863\n",
       "2.0     2.0     0.730769       0.313187\n",
       "3.0     3.0     0.708955       0.310448\n",
       "4.0     4.0     0.723323       0.322045\n",
       "5.0     5.0     0.694044       0.326646\n",
       "6.0     6.0     0.716609       0.307048\n",
       "7.0     7.0     0.730726       0.330281\n",
       "8.0     8.0     0.733461       0.338422\n",
       "9.0     9.0     0.750959       0.367199\n",
       "10.0   10.0     0.746750       0.398158"
      ]
     },
     "execution_count": 6,
     "metadata": {},
     "output_type": "execute_result"
    }
   ],
   "source": [
    "# Measure the ratio of programming lovers and \n",
    "# open source project contributors \n",
    "# who have different job satisfaction levels.\n",
    "hobby_ratios_df = sh.gen_hobby_ratios_df_by_satis('JobSatisfaction',\n",
    "                                                  job_satis_df)\n",
    "hobby_ratios_df"
   ]
  },
  {
   "cell_type": "code",
   "execution_count": 7,
   "metadata": {},
   "outputs": [
    {
     "data": {
      "image/png": "[encoded data removed]",
      "text/plain": [
       "<Figure size 432x288 with 1 Axes>"
      ]
     },
     "metadata": {
      "needs_background": "light"
     },
     "output_type": "display_data"
    }
   ],
   "source": [
    "# Let's draw the graph.\n",
    "x = np.arange(len(hobby_ratios_df['satis']))\n",
    "\n",
    "# Draw a line chart.\n",
    "plt.plot(x, hobby_ratios_df['hobby_ratio'], 'yellow')\n",
    "plt.plot(x, hobby_ratios_df['contrib_ratio'], 'red')\n",
    "plt.xticks(x, hobby_ratios_df['satis'], size='small',rotation=30)\n",
    "plt.xlabel('JobSatisfaction')\n",
    "plt.ylabel('Hobby/Contrib ratio')\n",
    "plt.title('Hobby ratio with Job Satisfaction')\n",
    "plt.legend()\n",
    "plt.show()"
   ]
  },
  {
   "cell_type": "markdown",
   "metadata": {},
   "source": [
    "We can see that there is a positive correlation between programming hobby and job satisfaction, although this relationship is not obvious. However, the relationship between the contribution of open source projects and job satisfaction will be significantly higher, especially when job satisfaction is above 6."
   ]
  },
  {
   "cell_type": "markdown",
   "metadata": {},
   "source": [
    "The following is a statistical analysis of the correlation between career satisfaction and programming hobby."
   ]
  },
  {
   "cell_type": "code",
   "execution_count": 8,
   "metadata": {
    "scrolled": true
   },
   "outputs": [
    {
     "name": "stdout",
     "output_type": "stream",
     "text": [
      "The number of rows with invalid JobSatisfaction is 8697.\n"
     ]
    }
   ],
   "source": [
    "print(\"The number of rows with invalid JobSatisfaction is {}.\"\n",
    "      .format(sum(df['CareerSatisfaction'].isnull())))"
   ]
  },
  {
   "cell_type": "code",
   "execution_count": 9,
   "metadata": {},
   "outputs": [
    {
     "name": "stdout",
     "output_type": "stream",
     "text": [
      "8.0\n",
      "0\n"
     ]
    }
   ],
   "source": [
    "# Fill in the missing values.\n",
    "cs_median = df[df['CareerSatisfaction'].isnull()==False][\n",
    "    'CareerSatisfaction'].median()\n",
    "print(cs_median)\n",
    "career_satis_df = df.copy()\n",
    "career_satis_df['CareerSatisfaction'].fillna(cs_median, inplace=True)\n",
    "print(sum(career_satis_df['CareerSatisfaction'].isnull()))"
   ]
  },
  {
   "cell_type": "code",
   "execution_count": 10,
   "metadata": {},
   "outputs": [
    {
     "data": {
      "image/png": "[encoded data removed]",
      "text/plain": [
       "<Figure size 432x288 with 1 Axes>"
      ]
     },
     "metadata": {
      "needs_background": "light"
     },
     "output_type": "display_data"
    }
   ],
   "source": [
    "career_satis_df['CareerSatisfaction'][\n",
    "    career_satis_df['Professional']=='Professional developer'].hist(bins=10);\n",
    "plt.title('CareerSatisfaction Stats for Professional developer');\n",
    "plt.xlabel('CareerSatisfaction');\n",
    "plt.ylabel('Count');"
   ]
  },
  {
   "cell_type": "code",
   "execution_count": 11,
   "metadata": {},
   "outputs": [
    {
     "data": {
      "text/plain": [
       "ProgramHobby\n",
       "No                                           7.0\n",
       "Yes, I contribute to open source projects    8.0\n",
       "Yes, I program as a hobby                    8.0\n",
       "Yes, both                                    8.0\n",
       "Name: CareerSatisfaction, dtype: float64"
      ]
     },
     "execution_count": 11,
     "metadata": {},
     "output_type": "execute_result"
    }
   ],
   "source": [
    "job_satis_df[job_satis_df['Professional']=='Professional developer'].groupby(\n",
    "    ['ProgramHobby']).median()['CareerSatisfaction'].sort_values()"
   ]
  },
  {
   "cell_type": "code",
   "execution_count": 12,
   "metadata": {},
   "outputs": [
    {
     "data": {
      "image/png": "[encoded data removed]",
      "text/plain": [
       "<Figure size 432x288 with 1 Axes>"
      ]
     },
     "metadata": {
      "needs_background": "light"
     },
     "output_type": "display_data"
    }
   ],
   "source": [
    "career_satis_df = df[df['CareerSatisfaction'].isnull() == False]\n",
    "hobby_ratios_df2 = sh.gen_hobby_ratios_df_by_satis('CareerSatisfaction',\n",
    "                                                   career_satis_df)\n",
    "\n",
    "x = np.arange(len(hobby_ratios_df2['satis']))\n",
    "\n",
    "# Draw a line chart.\n",
    "plt.plot(x, hobby_ratios_df2['hobby_ratio'], 'yellow')\n",
    "plt.plot(x, hobby_ratios_df2['contrib_ratio'], 'red')\n",
    "plt.xticks(x, hobby_ratios_df2['satis'], size='small',rotation=30)\n",
    "plt.xlabel('CareerSatisfaction')\n",
    "plt.ylabel('Hobby/Contrib ratio')\n",
    "plt.title('Hobby ratio with Career Satisfaction')\n",
    "plt.legend()\n",
    "plt.show()"
   ]
  },
  {
   "cell_type": "markdown",
   "metadata": {},
   "source": [
    "It is clear that career satisfaction is more relevant to programming hobby. Among users who are professional developers, the higher their career satisfaction, the more likely they are to make programming a hobby, and they will be more willing to contribute to open source projects. On the other hand, professional programmers who love programming are more likely to get a sense of satisfaction in their careers, especially for those who are willing to be contributors to open source projects.\n",
    "This is the second conclusion that I have come to an analysis."
   ]
  },
  {
   "cell_type": "markdown",
   "metadata": {},
   "source": [
    "By the way, I don't think the part of the data that career satisfaction is `0` is valid. Because if they don't feel satisfied with their careers, it's basically impossible to be a professional developer. Professional developers who love programming and dedication will not be happy with their careers at all? I'm afraid that's not possible."
   ]
  },
  {
   "cell_type": "code",
   "execution_count": 13,
   "metadata": {},
   "outputs": [
    {
     "data": {
      "image/png": "[encoded data removed]",
      "text/plain": [
       "<Figure size 432x288 with 1 Axes>"
      ]
     },
     "metadata": {
      "needs_background": "light"
     },
     "output_type": "display_data"
    }
   ],
   "source": [
    "hobby_ratios_df2 = sh.gen_hobby_ratios_df_by_satis('CareerSatisfaction',\n",
    "                                                   career_satis_df)\n",
    "\n",
    "hobby_ratios_df2_2 = hobby_ratios_df2.drop(0.0)\n",
    "x = np.arange(len(hobby_ratios_df2_2['satis']))\n",
    "\n",
    "# Draw a line chart.\n",
    "plt.plot(x, hobby_ratios_df2_2['hobby_ratio'], 'yellow')\n",
    "plt.plot(x, hobby_ratios_df2_2['contrib_ratio'], 'red')\n",
    "plt.xticks(x, hobby_ratios_df2_2['satis'], size='small',rotation=30)\n",
    "plt.xlabel('CareerSatisfaction')\n",
    "plt.ylabel('Hobby/Contrib ratio')\n",
    "plt.title('Hobby ratio with Career Satisfaction')\n",
    "plt.legend()\n",
    "plt.show()"
   ]
  },
  {
   "cell_type": "code",
   "execution_count": null,
   "metadata": {},
   "outputs": [],
   "source": []
  }
 ],
 "metadata": {
  "kernelspec": {
   "display_name": "Python 3",
   "language": "python",
   "name": "python3"
  },
  "language_info": {
   "codemirror_mode": {
    "name": "ipython",
    "version": 3
   },
   "file_extension": ".py",
   "mimetype": "text/x-python",
   "name": "python",
   "nbconvert_exporter": "python",
   "pygments_lexer": "ipython3",
   "version": "3.6.6"
  }
 },
 "nbformat": 4,
 "nbformat_minor": 2
}
